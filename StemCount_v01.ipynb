{
 "cells": [
  {
   "cell_type": "markdown",
   "id": "contained-valuation",
   "metadata": {},
   "source": [
    "# Stem Counting in Intermediate wheatgrass\n",
    "Two different programs have been used for stem (circle) detection: **OpenCV** and **Skimage**. Both rely on the Hough transform to detect circles. \n",
    "\n",
    "Each program was tested with an RGB image as well as a L*a*b* image with $0 \\leq a* < 125$ in an integer range [0...255] as in ImageJ, or $-127 \\leq a* < 0$ in an integer range [-127...127] as in the CIELAB scale."
   ]
  },
  {
   "cell_type": "markdown",
   "id": "preceding-mason",
   "metadata": {},
   "source": [
    "## Dependencies"
   ]
  },
  {
   "cell_type": "code",
   "execution_count": null,
   "id": "eight-effectiveness",
   "metadata": {},
   "outputs": [],
   "source": [
    "# CustomFunction is my own package with functions I have created to facilitate my work. It is not totally necessary for this purpose.\n",
    "from CustomFunctions import *\n",
    "\n",
    "import time\n",
    "# start_time = time.time()\n",
    "\n",
    "import os\n",
    "\n",
    "import glob\n",
    "\n",
    "import numpy as np\n",
    "\n",
    "import cv2 as cv\n",
    "\n",
    "import matplotlib.pyplot as plt\n",
    "\n",
    "from skimage import data, color\n",
    "from skimage.transform import hough_circle, hough_circle_peaks\n",
    "from skimage.feature import canny\n",
    "from skimage.draw import circle_perimeter, circle_perimeter_aa\n",
    "from skimage.draw import disk, set_color\n",
    "from skimage.util import img_as_ubyte\n",
    "\n",
    "from scipy import ndimage, misc\n",
    "from PIL import Image\n",
    "\n",
    "import pandas as pd\n",
    "\n",
    "import pathlib\n",
    "\n",
    "# Change the \"%matplotlib inline\" figure resolution on the notebook if desired\n",
    "import matplotlib as mpl\n",
    "mpl.rcParams['figure.dpi']= 600\n",
    "\n",
    "# Make sure Jupyter Notebook shows all outputs from the same cell\n",
    "from IPython.core.interactiveshell import InteractiveShell\n",
    "InteractiveShell.ast_node_interactivity = \"all\"\n"
   ]
  },
  {
   "cell_type": "markdown",
   "id": "northern-combination",
   "metadata": {},
   "source": [
    "## Test image"
   ]
  },
  {
   "cell_type": "code",
   "execution_count": null,
   "id": "adjacent-logic",
   "metadata": {},
   "outputs": [],
   "source": [
    "%%time\n",
    "mypath = r'./Images/Stems/Testing'\n",
    "Images = glob.glob(mypath + '/**/*.JPG', recursive=True)\n",
    "img0 = plt.imread(Images[0])\n",
    "plt.imshow(img0)\n",
    "print(\"Image \", Images[0])"
   ]
  },
  {
   "cell_type": "markdown",
   "id": "nutritional-hypothesis",
   "metadata": {},
   "source": [
    "## Using OpenCV\n",
    "The function will detect circles on either an rgb or a Lab image. \n",
    "For an rgb image (LAB=False), a Canny edge detector will be used to identify the stems and the output will be passed to the Hough circle function. \n",
    "For a Lab image (LAB=True), Hough will be executed on the thresholded Lab given the minLAB and maxLAB values."
   ]
  },
  {
   "cell_type": "code",
   "execution_count": null,
   "id": "broken-porter",
   "metadata": {},
   "outputs": [],
   "source": [
    "def DetectStemsCV(img, LAB=True, minLAB=[140,0,0], maxLAB=[255,125,255], FilledCircles=False):\n",
    "    \n",
    "    # The function will detect circles on either an rgb or a Lab image.\n",
    "    # For an rgb image (LAB=False), a Canny edge detector will be passed to the Hough circle.\n",
    "    # For a Lab image (LAB=True, and min and max values given as lists), Hough will be executed on the thresholded Lab given the minLAB and maxLAB values.\n",
    "    \n",
    "    # Read image\n",
    "    if isinstance(img, str) == True:\n",
    "        img = plt.imread(img)\n",
    "    else: \n",
    "        img = img\n",
    "    \n",
    "    output = img.copy()\n",
    "    \n",
    "    if LAB == True and minLAB is not None and maxLAB is not None:\n",
    "        LAB = cv.cvtColor(img, cv.COLOR_BGR2LAB)\n",
    "        minLAB = np.array(minLAB)\n",
    "        maxLAB = np.array(maxLAB)\n",
    "        maskLAB = cv.inRange(LAB, minLAB, maxLAB)\n",
    "        LAB = cv.bitwise_and(img, img, mask = maskLAB)\n",
    "        gray = cv.cvtColor(LAB, cv.COLOR_BGR2GRAY)\n",
    "        gray = cv.medianBlur(gray, 5)\n",
    "        circles = cv.HoughCircles(gray, cv.HOUGH_GRADIENT, dp=1, minDist=40,\n",
    "                              param1=60, param2=28, minRadius=1, maxRadius=45)\n",
    "    else:\n",
    "        gray = cv.cvtColor(img, cv.COLOR_BGR2GRAY)\n",
    "        gray = cv.medianBlur(gray, 5)\n",
    "        edges = cv.Canny(gray,50,150)\n",
    "        circles = cv.HoughCircles(gray, cv.HOUGH_GRADIENT, 1, minDist=40,\n",
    "                              param1=60, param2=28, minRadius=20, maxRadius=45)\n",
    "    \n",
    "    detected_circles = np.uint16(np.around(circles)) # list of circle parameters (x, y, radius)\n",
    "    \n",
    "    \n",
    "    if FilledCircles == True:\n",
    "        for (center_x, center_y, radius) in detected_circles[0, :]:\n",
    "            circy, circx = disk((center_x, center_y), radius,\n",
    "                                            shape=img.shape)\n",
    "            set_color(output, (circx, circy), [255, 0, 0], alpha=0.5)\n",
    "    else:\n",
    "        for (x, y ,r) in detected_circles[0, :]:\n",
    "            cv.circle(output, (x, y), r, (255, 0, 0), 2)\n",
    "        \n",
    "\n",
    "    return output, len(detected_circles[0])\n"
   ]
  },
  {
   "cell_type": "markdown",
   "id": "quick-grill",
   "metadata": {},
   "source": [
    "Testing on RGB"
   ]
  },
  {
   "cell_type": "code",
   "execution_count": null,
   "id": "uniform-prompt",
   "metadata": {},
   "outputs": [],
   "source": [
    "%%time\n",
    "\n",
    "Stems, nStems = DetectStemsCV(img0, LAB=False, minLAB=[0,0,0], maxLAB=[255,125,255], FilledCircles=False)\n",
    "plt.imshow(Stems)\n",
    "print(\"\\n\", nStems, \" stems identified.\", \"\\n\")"
   ]
  },
  {
   "cell_type": "markdown",
   "id": "medical-division",
   "metadata": {},
   "source": [
    "Testing on LAB with a* < 125"
   ]
  },
  {
   "cell_type": "code",
   "execution_count": null,
   "id": "hearing-might",
   "metadata": {},
   "outputs": [],
   "source": [
    "%%time\n",
    "\n",
    "Stems, nStems = DetectStemsCV(img0, LAB=True, minLAB=[0,0,0], maxLAB=[255,125,255], FilledCircles=False)\n",
    "plt.imshow(Stems)\n",
    "print(\"\\n\", nStems, \" stems identified.\", \"\\n\")"
   ]
  },
  {
   "cell_type": "markdown",
   "id": "sealed-sweden",
   "metadata": {},
   "source": [
    "## Using Skimage\n",
    "Unlike with the OpenCV-based function, here we use a Canny detector on both the rgb and the thresholded Lab. \n",
    "\n",
    "We can currently change only the upper bound of the a* channel without using OpenCV. We could add parameters to change the other channels if needed but it seems to be more computationally intensive with Skimage, so we may consider using openCV ucntions such as `inRange`."
   ]
  },
  {
   "cell_type": "code",
   "execution_count": null,
   "id": "advanced-detail",
   "metadata": {},
   "outputs": [],
   "source": [
    "def DetectStems(img, MedianSize=7, CannySigma=1, CannyLow=50, CannyHigh=150, LAB=True, minLAB=[0,0,0], maxLAB=[255,125,255]):\n",
    "    \n",
    "    # Read image\n",
    "    if isinstance(img, str) == True:\n",
    "        img = plt.imread(img)\n",
    "    else: \n",
    "        img = img\n",
    "    \n",
    "    output = img.copy()\n",
    "    \n",
    "    # Detect radii\n",
    "    hough_radii = np.arange(20, 50, 1)\n",
    "    \n",
    "    if LAB == True and minLAB is not None and maxLAB is not None:\n",
    "        LAB = cv.cvtColor(img, cv.COLOR_BGR2LAB)\n",
    "        minLAB = np.array(minLAB)\n",
    "        maxLAB = np.array(maxLAB)\n",
    "        maskLAB = cv.inRange(LAB, minLAB, maxLAB)\n",
    "        LAB = cv.bitwise_and(img, img, mask = maskLAB)\n",
    "        gray0 = LAB @ [0.2126, 0.7152, 0.0722]\n",
    "        gray0 = ndimage.median_filter(gray0, size=MedianSize)\n",
    "        hough_res = hough_circle(gray0, hough_radii)\n",
    "    else: \n",
    "        gray0 = img @ [0.2126, 0.7152, 0.0722]\n",
    "        gray0 = ndimage.median_filter(gray0, size=MedianSize)\n",
    "        edges = canny(gray0, sigma = CannySigma, low_threshold=CannyLow, high_threshold=CannyHigh)\n",
    "        hough_res = hough_circle(edges, hough_radii)\n",
    "    \n",
    "    # Get peaks\n",
    "    accums, cx, cy, radii = hough_circle_peaks(hough_res, hough_radii, min_xdistance=30, min_ydistance=30, threshold=0.34)\n",
    "    \n",
    "    for center_y, center_x, radius in zip(cy, cx, radii):\n",
    "        circy, circx = disk((center_y, center_x), radius, shape=output.shape)\n",
    "        set_color(output, (circy, circx), [255, 0, 0], alpha=0.5)\n",
    "\n",
    "\n",
    "    return output, len(radii)\n",
    "    \n",
    "    \n"
   ]
  },
  {
   "cell_type": "markdown",
   "id": "critical-consolidation",
   "metadata": {},
   "source": [
    "Testing on RGB"
   ]
  },
  {
   "cell_type": "code",
   "execution_count": null,
   "id": "bored-commissioner",
   "metadata": {},
   "outputs": [],
   "source": [
    "%%time\n",
    "\n",
    "Stems, nStems = DetectStems(img0, MedianSize = 5, CannySigma = 1, CannyLow=10, CannyHigh=80, LAB=False)\n",
    "plt.imshow(Stems)\n",
    "print(\"\\n\", nStems, \" stems identified.\", \"\\n\")\n"
   ]
  },
  {
   "cell_type": "markdown",
   "id": "functioning-numbers",
   "metadata": {},
   "source": [
    "Testing on LAB with a* < 0"
   ]
  },
  {
   "cell_type": "code",
   "execution_count": null,
   "id": "naked-negotiation",
   "metadata": {},
   "outputs": [],
   "source": [
    "%%time\n",
    "\n",
    "Stems, nStems = DetectStems(img0, MedianSize = 5, CannySigma = 1, CannyLow=5, CannyHigh=150, LAB=True, minLAB=[100,0,0], maxLAB=[255,125,255])\n",
    "plt.imshow(Stems)\n",
    "print(\"\\n\", nStems, \" stems identified.\", \"\\n\")"
   ]
  },
  {
   "cell_type": "code",
   "execution_count": null,
   "id": "brazilian-generic",
   "metadata": {},
   "outputs": [],
   "source": []
  },
  {
   "cell_type": "markdown",
   "id": "floating-proxy",
   "metadata": {},
   "source": [
    "# Executing OpenCV's on entire images' folder"
   ]
  },
  {
   "cell_type": "code",
   "execution_count": null,
   "id": "revolutionary-caution",
   "metadata": {},
   "outputs": [],
   "source": [
    "# Define image folder\n",
    "mypath = r'./Images/Stems/Original'\n",
    "Images = glob.glob(mypath + '/*.JPG', recursive=False)\n",
    "Images"
   ]
  },
  {
   "cell_type": "code",
   "execution_count": null,
   "id": "exciting-lodging",
   "metadata": {
    "scrolled": true
   },
   "outputs": [],
   "source": [
    "%%time\n",
    "\n",
    "Stems_data = pd.DataFrame()\n",
    "\n",
    "CountColname = \"LABa0-140\"\n",
    "\n",
    "for img in Images:\n",
    "    \n",
    "    # Read the image\n",
    "    img0 = iio.imread(img)\n",
    "#     img0 = CropStems(img)\n",
    "    \n",
    "    # Create output image and get number of detected stems\n",
    "    Stems, nStems = DetectStemsCV(img0, LAB=True, minLAB=[0,0,0], maxLAB=[255,140,255], FilledCircles=False)\n",
    "    \n",
    "    # Create path to nested subdirectory for output image\n",
    "    FullPath = img.split(\"\\\\\")[:1]\n",
    "    FullPath = '\\\\'.join([str(i) for i in FullPath])\n",
    "    FullPath = FullPath + \"\\\\DetectedStems\\\\\"\n",
    "    output_name = img.split(\"\\\\\")[-1]\n",
    "    barcode = output_name.replace(\".JPG\", \"\")\n",
    "    barcode = barcode.split(\"_\")[-1]\n",
    "    output_name = output_name.replace(\".JPG\", \"_DC.JPG\")\n",
    "    \n",
    "    # Check if folder exist, create otherwise\n",
    "    path = pathlib.Path(FullPath)\n",
    "    path.mkdir(parents=True, exist_ok=True)\n",
    "    \n",
    "    # Define full filename and save image\n",
    "    output_name = FullPath + output_name\n",
    "    imgWritten = cv.imwrite(output_name, cv.cvtColor(Stems, cv.COLOR_RGB2BGR))\n",
    "    \n",
    "    if imgWritten:\n",
    "          print(\"Image saved as \", output_name)\n",
    "    \n",
    "    img_data = pd.DataFrame([(int(barcode), nStems)], columns=[\"barcode\",CountColname])\n",
    "    Stems_data = Stems_data.append(img_data)\n",
    "    "
   ]
  },
  {
   "cell_type": "markdown",
   "id": "italian-oliver",
   "metadata": {},
   "source": [
    "## Datasets"
   ]
  },
  {
   "cell_type": "code",
   "execution_count": null,
   "id": "cordless-bedroom",
   "metadata": {},
   "outputs": [],
   "source": [
    "Stems_data\n",
    "Stems_data2 = Stems_data.reset_index()\n",
    "Stems_data2\n",
    "# data_name = FullPath + \"Stems_data.csv\"\n",
    "# Stems_data.to_csv(data_name, index=False)"
   ]
  },
  {
   "cell_type": "code",
   "execution_count": null,
   "id": "adequate-benefit",
   "metadata": {},
   "outputs": [],
   "source": [
    "# Read manual count file\n",
    "MC = pd.read_excel(\".\\\\stem_dat.xlsx\", engine='openpyxl')\n",
    "MC\n",
    "MC['barcode'] = MC['barcode'].apply(lambda x: x if pd.isnull(x) else str(int(x)))\n",
    "MC"
   ]
  },
  {
   "cell_type": "code",
   "execution_count": null,
   "id": "regulated-grocery",
   "metadata": {},
   "outputs": [],
   "source": [
    "# Merge manual and automatic count\n",
    "# df1 = pd.merge(Stems_data2, MC, on = ['barcode'])\n",
    "df1 = pd.concat([Stems_data2, MC], axis=0, ignore_index=True, sort=False)\n",
    "\n",
    "# df1 = Stems_data.join(MC, how='left', lsuffix='_left', rsuffix='_right')\n",
    "# df1\n",
    "\n",
    "# df1.dropna(subset = [\"manual_tiller_ct\"], inplace=True)\n",
    "# df1\n",
    "data_name = FullPath + \"df1.csv\"\n",
    "df1.to_csv(data_name, index=False)\n"
   ]
  },
  {
   "cell_type": "code",
   "execution_count": null,
   "id": "grateful-packing",
   "metadata": {},
   "outputs": [],
   "source": [
    "df1.columns\n",
    "df2 = df1[['index', 'barcode', 'LABa0-140','manual_tiller_ct', 'rep']]\n",
    "df2"
   ]
  },
  {
   "cell_type": "markdown",
   "id": "jewish-underwear",
   "metadata": {},
   "source": [
    "## Plotting"
   ]
  },
  {
   "cell_type": "code",
   "execution_count": null,
   "id": "sacred-works",
   "metadata": {},
   "outputs": [],
   "source": [
    "# df3 = df2.dropna(subset = [\"rep\"], inplace=True)\n",
    "# df3\n",
    "\n",
    "# Change the \"%matplotlib inline\" figure resolution on the notebook if desired\n",
    "import matplotlib as mpl\n",
    "mpl.rcParams['figure.dpi']= 200\n",
    "\n",
    "import plotnine as p9"
   ]
  },
  {
   "cell_type": "code",
   "execution_count": null,
   "id": "continued-speed",
   "metadata": {},
   "outputs": [],
   "source": [
    "df3 = df2[['barcode','rep']]\n",
    "p = p9.ggplot(data=df3, mapping=p9.aes(x='rep', y='barcode'))\n",
    "# Draw the plot\n",
    "p + p9.geom_point()"
   ]
  },
  {
   "cell_type": "code",
   "execution_count": null,
   "id": "compliant-prescription",
   "metadata": {},
   "outputs": [],
   "source": []
  },
  {
   "cell_type": "code",
   "execution_count": null,
   "id": "arabic-service",
   "metadata": {},
   "outputs": [],
   "source": [
    "df = df2[[CountColname,'manual_tiller_ct']]\n",
    "df.corr()\n",
    "      dogs  cats\n",
    "dogs   1.0   0.3\n",
    "cats   0.3   1.0"
   ]
  },
  {
   "cell_type": "markdown",
   "id": "structured-knife",
   "metadata": {},
   "source": [
    "# Ignore anything below here"
   ]
  },
  {
   "cell_type": "code",
   "execution_count": null,
   "id": "effective-chaos",
   "metadata": {},
   "outputs": [],
   "source": []
  },
  {
   "cell_type": "code",
   "execution_count": null,
   "id": "acceptable-declaration",
   "metadata": {},
   "outputs": [],
   "source": []
  },
  {
   "cell_type": "code",
   "execution_count": null,
   "id": "equal-bruce",
   "metadata": {},
   "outputs": [],
   "source": [
    "blurry = filters.gaussian(edge_sobel, sigma = 5)\n",
    "plt.imshow(blurry)"
   ]
  },
  {
   "cell_type": "code",
   "execution_count": null,
   "id": "variable-publicity",
   "metadata": {},
   "outputs": [],
   "source": [
    "# sk = skeletonize(img1 > 20)\n",
    "# plt.imshow(sk, cmap='gray')"
   ]
  },
  {
   "cell_type": "code",
   "execution_count": null,
   "id": "outside-neighborhood",
   "metadata": {
    "scrolled": true
   },
   "outputs": [],
   "source": [
    "# img = cv.imread('messi5.jpg',0)\n",
    "blur = cv.medianBlur(img0,7)\n",
    "edges = cv.Canny(blur,100,200)\n",
    "plt.imshow(edges)\n",
    "# blur = cv.medianBlur(edges,3)\n",
    "# plt.imshow(blur)"
   ]
  },
  {
   "cell_type": "code",
   "execution_count": null,
   "id": "applicable-coffee",
   "metadata": {},
   "outputs": [],
   "source": []
  },
  {
   "cell_type": "code",
   "execution_count": null,
   "id": "fitted-authority",
   "metadata": {},
   "outputs": [],
   "source": [
    "def DetectStemsCV(img, LAB=True, minLAB=[140,0,0], maxLAB=[255,125,255], FilledCircles=False):\n",
    "    \n",
    "    # The function will detect circles on either an rgb or a Lab image.\n",
    "    # For an rgb image (LAB=False), a Canny edge detector will be passed to the Hough circle.\n",
    "    # For a Lab image (LAB=True, and min and max values given as lists), Hough will be executed on the thresholded Lab given the minLAB and maxLAB values.\n",
    "    \n",
    "    output = img.copy()\n",
    "    \n",
    "    if LAB == True and minLAB is not None and maxLAB is not None:\n",
    "        LAB = cv.cvtColor(img, cv.COLOR_BGR2LAB)\n",
    "        minLAB = np.array(minLAB)\n",
    "        maxLAB = np.array(maxLAB)\n",
    "        maskLAB = cv.inRange(LAB, minLAB, maxLAB)\n",
    "        LAB = cv.bitwise_and(img, img, mask = maskLAB)\n",
    "        gray = cv.cvtColor(LAB, cv.COLOR_BGR2GRAY)\n",
    "        gray = cv.medianBlur(gray, 5)\n",
    "        circles = cv.HoughCircles(gray, cv.HOUGH_GRADIENT, dp=1, minDist=50,\n",
    "                              param1=60, param2=28, minRadius=20, maxRadius=45)\n",
    "    else:\n",
    "        gray = cv.cvtColor(img, cv.COLOR_BGR2GRAY)\n",
    "        gray = cv.medianBlur(gray, 5)\n",
    "        edges = cv.Canny(gray,50,150)\n",
    "        circles = cv.HoughCircles(gray, cv.HOUGH_GRADIENT, 1, minDist=50,\n",
    "                              param1=60, param2=28, minRadius=20, maxRadius=45)\n",
    "    \n",
    "    detected_circles = np.uint16(np.around(circles)) # list of circle parameters (x, y, radius)\n",
    "    \n",
    "    \n",
    "    if FilledCircles == True:\n",
    "        for (center_x, center_y, radius) in detected_circles[0, :]:\n",
    "            circy, circx = disk((center_x, center_y), radius,\n",
    "                                            shape=img.shape)\n",
    "            set_color(output, (circx, circy), [255, 0, 0], alpha=0.5)\n",
    "    else:\n",
    "        for (x, y ,r) in detected_circles[0, :]:\n",
    "            cv.circle(output, (x, y), r, (255, 0, 0), 3)\n",
    "        \n",
    "\n",
    "    return output, detected_circles\n"
   ]
  },
  {
   "cell_type": "code",
   "execution_count": null,
   "id": "substantial-luxembourg",
   "metadata": {
    "scrolled": false
   },
   "outputs": [],
   "source": [
    "test_hc, test_dc = DetectStemsCV(img0, LAB=True, minLAB=[0,0,0], maxLAB=[255,125,255], FilledCircles=False)\n",
    "plt.imshow(test_hc)\n",
    "len(test_dc[0])"
   ]
  },
  {
   "cell_type": "code",
   "execution_count": null,
   "id": "muslim-jefferson",
   "metadata": {},
   "outputs": [],
   "source": [
    "circles = cv.HoughCircles(gray, cv.HOUGH_GRADIENT, 1, minDist=50,\n",
    "                              param1=60, param2=28, minRadius=40, maxRadius=60)\n",
    "# len(circles[0])\n",
    "detected_circles = np.uint16(np.around(circles))\n",
    "for (center_y, center_x, radius) in detected_circles[0, :]:\n",
    "    print(center_y, center_x, radius)\n",
    "\n",
    "\n",
    "# for center_y, center_x, radius in zip(cy, cx, radii):\n",
    "#         circy, circx = disk((center_y, center_x), radius,\n",
    "#                                         shape=image.shape)\n",
    "#         set_color(image, (circy, circx), [255, 0, 0], alpha=0.5)\n",
    "# #         image[circy, circx] = (255,0,0)\n",
    "\n",
    "#     return image, len(radii)"
   ]
  },
  {
   "cell_type": "code",
   "execution_count": null,
   "id": "continent-official",
   "metadata": {
    "scrolled": true
   },
   "outputs": [],
   "source": [
    "lab_image = cv.cvtColor(img0, cv.COLOR_BGR2LAB)\n",
    "l_channel,a_channel,b_channel = cv.split(lab_image)\n",
    "plt.imshow(lab_image)"
   ]
  },
  {
   "cell_type": "code",
   "execution_count": null,
   "id": "floating-gentleman",
   "metadata": {},
   "outputs": [],
   "source": [
    "a_channel.max()"
   ]
  },
  {
   "cell_type": "code",
   "execution_count": null,
   "id": "choice-opposition",
   "metadata": {
    "scrolled": true
   },
   "outputs": [],
   "source": [
    "# lab = cv.cvtColor(img0, cv.COLOR_BGR2LAB)\\thresh = 40\n",
    "lab = cv.cvtColor(img0, cv.COLOR_BGR2LAB)\n",
    "# plt.imshow(lab[:,:,1])\n",
    "# hsv = [65, 229, 158]\n",
    "minLAB = np.array([140, 0, 0])\n",
    "maxLAB = np.array([255, 125, 255])\n",
    "\n",
    "maskLAB = cv.inRange(lab, minLAB, maxLAB)\n",
    "resultLAB = cv.bitwise_and(img0, img0, mask = maskLAB)\n",
    "plt.imshow(resultLAB)\n",
    "# minHSV.shape"
   ]
  },
  {
   "cell_type": "code",
   "execution_count": null,
   "id": "occupied-frederick",
   "metadata": {
    "scrolled": true
   },
   "outputs": [],
   "source": [
    "gray = cv.cvtColor(resultLAB, cv.COLOR_BGR2GRAY)\n",
    "plt.imshow(gray)"
   ]
  },
  {
   "cell_type": "code",
   "execution_count": null,
   "id": "stone-nothing",
   "metadata": {
    "scrolled": true
   },
   "outputs": [],
   "source": [
    "gray = cv.cvtColor(img0, cv.COLOR_BGR2GRAY)\n",
    "plt.imshow(gray, cmap='gray')"
   ]
  },
  {
   "cell_type": "code",
   "execution_count": null,
   "id": "fixed-packet",
   "metadata": {},
   "outputs": [],
   "source": [
    "ComparePlots(1,2, [test_hc, img0])"
   ]
  },
  {
   "cell_type": "code",
   "execution_count": null,
   "id": "level-gilbert",
   "metadata": {
    "scrolled": true
   },
   "outputs": [],
   "source": [
    "len(test_dc[0])"
   ]
  },
  {
   "cell_type": "code",
   "execution_count": null,
   "id": "protecting-induction",
   "metadata": {},
   "outputs": [],
   "source": [
    "test_dc[:, 0, 0]"
   ]
  },
  {
   "cell_type": "code",
   "execution_count": null,
   "id": "lovely-ridge",
   "metadata": {},
   "outputs": [],
   "source": []
  },
  {
   "cell_type": "code",
   "execution_count": null,
   "id": "sitting-substitute",
   "metadata": {},
   "outputs": [],
   "source": [
    "test_hc, test_dc = hough_circle(img0, 70, 40)\n",
    "bw0 = test_hc[:, :, 0] == 255\n",
    "plt.imshow(bw0)"
   ]
  },
  {
   "cell_type": "code",
   "execution_count": null,
   "id": "embedded-insight",
   "metadata": {},
   "outputs": [],
   "source": []
  },
  {
   "cell_type": "code",
   "execution_count": null,
   "id": "junior-recall",
   "metadata": {},
   "outputs": [],
   "source": [
    "edges = canny(img1,low_threshold=50, high_threshold=150)\n",
    "plt.imshow(edges)"
   ]
  },
  {
   "cell_type": "code",
   "execution_count": null,
   "id": "infinite-pressure",
   "metadata": {},
   "outputs": [],
   "source": [
    "# Detect two radii\n",
    "hough_radii = np.arange(20, 35, 1)\n",
    "hough_res = hough_circle(edges, hough_radii)"
   ]
  },
  {
   "cell_type": "code",
   "execution_count": null,
   "id": "bottom-digit",
   "metadata": {},
   "outputs": [],
   "source": [
    "hough_res.shape"
   ]
  },
  {
   "cell_type": "code",
   "execution_count": null,
   "id": "heavy-standard",
   "metadata": {},
   "outputs": [],
   "source": [
    "# hough_radii\n",
    "# hough_res\n",
    "\n",
    "# Select the most prominent 3 circles\n",
    "accums, cx, cy, radii = hough_circle_peaks(hough_res, hough_radii, min_xdistance=40, min_ydistance=40)"
   ]
  },
  {
   "cell_type": "code",
   "execution_count": null,
   "id": "official-relation",
   "metadata": {},
   "outputs": [],
   "source": [
    "len(radii)"
   ]
  },
  {
   "cell_type": "code",
   "execution_count": null,
   "id": "atlantic-formula",
   "metadata": {
    "scrolled": true
   },
   "outputs": [],
   "source": [
    "# # Draw them\n",
    "# fig, ax = plt.subplots(ncols=1, nrows=1, figsize=(10, 4))\n",
    "# image = color.gray2rgb(img1)\n",
    "# for center_y, center_x, radius in zip(cy, cx, radii):\n",
    "#     circy, circx = disk((center_y, center_x), radius,\n",
    "#                                     shape=image.shape)\n",
    "    \n",
    "#     image[circy, circx] = (255,0,0)\n",
    "\n",
    "# ax.imshow(image, cmap=plt.cm.gray)\n",
    "# plt.show()\n",
    "\n",
    "# # plt.imshow(image)\n",
    "\n",
    "\n",
    "# Draw them\n",
    "fig, ax = plt.subplots(ncols=1, nrows=1, figsize=(10, 4))\n",
    "image = color.gray2rgb(img1)\n",
    "for center_y, center_x, radius in zip(cy, cx, radii):\n",
    "    circy, circx = disk((center_y, center_x), radius,\n",
    "                                    shape=image.shape)\n",
    "    set_color(image, (circy, circx), [255, 0, 0], alpha=0.5)\n",
    "    \n",
    "#     image[circy, circx] = (255,0,0)\n",
    "\n",
    "ax.imshow(image, cmap=plt.cm.gray)\n",
    "plt.show()\n",
    "\n",
    "# >>> from skimage.draw import circle_perimeter_aa\n",
    "# >>> img = np.zeros((10, 10), dtype=np.uint8)\n",
    "# >>> rr, cc, val = circle_perimeter_aa(4, 4, 3)\n",
    "# >>> img[rr, cc] = val * 255\n",
    "# >>> img\n",
    "# array([[  0,   0,   0,   0,   0,   0,   0,   0,   0,   0],\n",
    "#        [  0,   0,  60, 211, 255, 211,  60,   0,   0,   0],\n",
    "#        [  0,  60, 194,  43,   0,  43, 194,  60,   0,   0],\n",
    "#        [  0, 211,  43,   0,   0,   0,  43, 211,   0,   0],\n",
    "#        [  0, 255,   0,   0,   0,   0,   0, 255,   0,   0],\n",
    "#        [  0, 211,  43,   0,   0,   0,  43, 211,   0,   0],\n",
    "#        [  0,  60, 194,  43,   0,  43, 194,  60,   0,   0],\n",
    "#        [  0,   0,  60, 211, 255, 211,  60,   0,   0,   0],\n",
    "#        [  0,   0,   0,   0,   0,   0,   0,   0,   0,   0],\n",
    "#        [  0,   0,   0,   0,   0,   0,   0,   0,   0,   0]], dtype=uint8)\n",
    "\n",
    "# >>> from skimage import data, draw\n",
    "# >>> image = data.chelsea()\n",
    "# >>> rr, cc, val = draw.circle_perimeter_aa(r=100, c=100, radius=75)\n",
    "# >>> draw.set_color(image, (rr, cc), [1, 0, 0], alpha=val)"
   ]
  },
  {
   "cell_type": "code",
   "execution_count": null,
   "id": "contrary-bronze",
   "metadata": {},
   "outputs": [],
   "source": [
    "len(radii)"
   ]
  },
  {
   "cell_type": "code",
   "execution_count": null,
   "id": "legislative-afternoon",
   "metadata": {},
   "outputs": [],
   "source": [
    "ComparePlots(1,2, [test_hc, img0])"
   ]
  },
  {
   "cell_type": "code",
   "execution_count": null,
   "id": "external-theme",
   "metadata": {},
   "outputs": [],
   "source": [
    "len(radii)"
   ]
  },
  {
   "cell_type": "code",
   "execution_count": null,
   "id": "architectural-encounter",
   "metadata": {},
   "outputs": [],
   "source": [
    "def hough_circle_cv(img, min_dist, max_radius):\n",
    "    output = img.copy()\n",
    "    gray = cv.cvtColor(img, cv.COLOR_BGR2GRAY)\n",
    "    # img2 = np.floor(img)\n",
    "    # img2 = img2.astype(int)\n",
    "    gray = cv.medianBlur(gray, 5)\n",
    "    edges = cv.Canny(gray,50,150)\n",
    "    circles = cv.HoughCircles(edges, cv.HOUGH_GRADIENT, 1, min_dist,\n",
    "                              param1=50, param2=30, minRadius=0, maxRadius=max_radius)\n",
    "    detected_circles = np.uint16(np.around(circles)) # its a list of circle parameters (x, y ,radius)\n",
    "    for (x, y ,r) in detected_circles[0, :]:\n",
    "        cv.circle(output, (x, y), r, (255, 0, 0), -1)\n",
    "        # cv.circle(output, (x, y), 0, (0, 255, 0), 3)\n",
    "        \n",
    "    return output, detected_circles # output is the orig image with cirlcles drawn on it\n"
   ]
  },
  {
   "cell_type": "code",
   "execution_count": null,
   "id": "apart-latest",
   "metadata": {},
   "outputs": [],
   "source": []
  },
  {
   "cell_type": "code",
   "execution_count": null,
   "id": "important-nirvana",
   "metadata": {},
   "outputs": [],
   "source": [
    "def DetectStems(ImagePath, MedianSize = 7, CannySigma = 1, CannyLow = 50, CannyHigh = 150):\n",
    "    \n",
    "#     edges = canny(img1,low_threshold=50, high_threshold=150)\n",
    "#     plt.imshow(edges)\n",
    "#     img0 = plt.imread(ImagePath)\n",
    "#     img1 = CropStems(ImagePath)\n",
    "#     img = Image.open('image.png').convert('LA')\n",
    "    gray0 = img0 @ [0.2126, 0.7152, 0.0722]\n",
    "#     gray0 = Image.fromarray(img0).convert('L')\n",
    "#     gray0 = np.asarray(gray0)\n",
    "    gray0 = ndimage.median_filter(gray0, size=MedianSize)\n",
    "    edges = canny(gray0, sigma = CannySigma, low_threshold=CannyLow, high_threshold=CannyHigh)\n",
    "    \n",
    "    # Detect radii\n",
    "    hough_radii = np.arange(20, 50, 1)\n",
    "    hough_res = hough_circle(edges, hough_radii)\n",
    "    \n",
    "    # Get peaks\n",
    "    accums, cx, cy, radii = hough_circle_peaks(hough_res, hough_radii, min_xdistance=40, min_ydistance=40, threshold=0.3)\n",
    "    \n",
    "    \n",
    "    # Draw them\n",
    "#     fig, ax = plt.subplots(ncols=1, nrows=1, figsize=(10, 4))\n",
    "    image = img0.copy()\n",
    "    for center_y, center_x, radius in zip(cy, cx, radii):\n",
    "        circy, circx = disk((center_y, center_x), radius,\n",
    "                                        shape=image.shape)\n",
    "        set_color(image, (circy, circx), [255, 0, 0], alpha=0.5)\n",
    "#         image[circy, circx] = (255,0,0)\n",
    "\n",
    "    return image, len(radii)\n",
    "    \n",
    "    \n"
   ]
  },
  {
   "cell_type": "code",
   "execution_count": null,
   "id": "peripheral-strain",
   "metadata": {},
   "outputs": [],
   "source": [
    "stems_1, nStems = DetectStems(img0, MedianSize = 5, CannySigma = 0.8, CannyLow=10, CannyHigh=80)\n",
    "# stems_1, nStems = DetectStems(rgb, MedianSize = 5, CannySigma = 0.8, CannyLow=10, CannyHigh=80)\n",
    "plt.imshow(stems_1)\n",
    "nStems\n"
   ]
  },
  {
   "cell_type": "code",
   "execution_count": null,
   "id": "sensitive-lawrence",
   "metadata": {
    "scrolled": true
   },
   "outputs": [],
   "source": [
    "stems_0, nStems = DetectStems(Images[0], MedianSize = 5, CannySigma = 1, CannyLow=10, CannyHigh=80)\n",
    "plt.imshow(stems_0)\n",
    "nStems\n"
   ]
  },
  {
   "cell_type": "code",
   "execution_count": null,
   "id": "interstate-argument",
   "metadata": {},
   "outputs": [],
   "source": [
    "plt.imshow(img0)"
   ]
  },
  {
   "cell_type": "code",
   "execution_count": null,
   "id": "medieval-bradford",
   "metadata": {},
   "outputs": [],
   "source": [
    "gray0 = img0 @ [0.2126, 0.7152, 0.0722] \n",
    "gray0 = ndimage.median_filter(gray0, size=3)\n",
    "# edges = canny(gray0, low_threshold=50, high_threshold=150)"
   ]
  },
  {
   "cell_type": "code",
   "execution_count": null,
   "id": "associate-detail",
   "metadata": {},
   "outputs": [],
   "source": [
    "edges = canny(gray0, sigma = 0.5, low_threshold=50, high_threshold=150)\n",
    "plt.imshow(edges, cmap = 'gray')"
   ]
  },
  {
   "cell_type": "code",
   "execution_count": null,
   "id": "offshore-detective",
   "metadata": {},
   "outputs": [],
   "source": [
    "# nvcc --version"
   ]
  },
  {
   "cell_type": "code",
   "execution_count": null,
   "id": "elect-drilling",
   "metadata": {},
   "outputs": [],
   "source": [
    "# import cupy as cp\n",
    "# from skimage import data\n",
    "# from cucim.skimage.feature import canny\n",
    "# import numpy as np\n",
    "# import matplotlib.pyplot as plt\n",
    "\n",
    "# # from skimage import data, color\n",
    "# # from skimage.transform import hough_circle, hough_circle_peaks\n",
    "# from skimage.feature import canny\n",
    "# # from skimage.draw import circle_perimeter, circle_perimeter_aa\n",
    "# # from skimage.draw import disk, set_color\n",
    "# # from skimage.util import img_as_ubyte\n",
    "\n",
    "# # # Change the \"%matplotlib inline\" figure resolution on the notebook\n",
    "# # import matplotlib as mpl\n",
    "# # mpl.rcParams['figure.dpi']= 600"
   ]
  },
  {
   "cell_type": "code",
   "execution_count": null,
   "id": "measured-collapse",
   "metadata": {},
   "outputs": [],
   "source": [
    "def DetectStems(ImagePath, MedianSize = 7, CannySigma = 1, CannyLow = 50, CannyHigh = 150):\n",
    "    \n",
    "#     edges = canny(img1,low_threshold=50, high_threshold=150)\n",
    "#     plt.imshow(edges)\n",
    "    img0 = plt.imread(ImagePath)\n",
    "    \n",
    "    # Get Lab values\n",
    "    Lab = color.rgb2lab(img0)\n",
    "#     L = Lab[:,:,0]\n",
    "#     a = Lab[:,:,1] < -3\n",
    "#     b = Lab[:,:,2] > 18\n",
    "#     Lab = color.rgb2lab(img0)\n",
    "    a = Lab[:,:,1] < 0\n",
    "    # a2 = a @ Lab[:,:,1]\n",
    "    a2 = np.where(a[..., None], Lab, 0)\n",
    "    rgb = color.lab2rgb(a2)\n",
    "#     mask = Lab[:,:,0] > 60\n",
    "    # Apply mask\n",
    "#     Lab1 = np.where(mask[..., None], Lab, 0)\n",
    "#     rgb = color.lab2rgb(Lab1)\n",
    "#     img1 = CropStems(ImagePath)\n",
    "#     img = Image.open('image.png').convert('LA')\n",
    "    gray0 = rgb @ [0.2126, 0.7152, 0.0722]\n",
    "#     gray0 = Image.fromarray(img0).convert('L')\n",
    "#     gray0 = np.asarray(gray0)\n",
    "#     gray0 = ndimage.median_filter(gray0, size=MedianSize)\n",
    "    edges = canny(gray0, sigma = CannySigma, low_threshold=CannyLow, high_threshold=CannyHigh)\n",
    "#     edges = canny(gray0, sigma=2, low_threshold=0.4, high_threshold=0.6)\n",
    "    \n",
    "    # Detect radii\n",
    "    hough_radii = np.arange(20, 40, 1)\n",
    "    hough_res = hough_circle(edges, hough_radii)\n",
    "    \n",
    "    # Get peaks\n",
    "    accums, cx, cy, radii = hough_circle_peaks(hough_res, hough_radii, min_xdistance=40, min_ydistance=40, threshold=0.33)\n",
    "    \n",
    "    \n",
    "    # Draw them\n",
    "#     fig, ax = plt.subplots(ncols=1, nrows=1, figsize=(10, 4))\n",
    "    image = img0.copy()\n",
    "    for center_y, center_x, radius in zip(cy, cx, radii):\n",
    "        circy, circx = disk((center_y, center_x), radius,\n",
    "                                        shape=image.shape)\n",
    "        set_color(image, (circy, circx), [255, 0, 0], alpha=0.5)\n",
    "#         image[circy, circx] = (255,0,0)\n",
    "\n",
    "    return image, len(radii)\n",
    "    \n",
    "    \n"
   ]
  },
  {
   "cell_type": "code",
   "execution_count": null,
   "id": "headed-circumstances",
   "metadata": {},
   "outputs": [],
   "source": [
    "stems_1, nStems = DetectStems(Images[0], MedianSize = 5, CannySigma = 0.6, CannyLow=0.58, CannyHigh=0.6)\n",
    "plt.imshow(stems_1)\n",
    "nStems"
   ]
  },
  {
   "cell_type": "code",
   "execution_count": null,
   "id": "demonstrated-poker",
   "metadata": {},
   "outputs": [],
   "source": [
    "stems_1, nStems = DetectStems(Images[0], MedianSize = 5, CannySigma = 0.6, CannyLow=0.2, CannyHigh=0.4)\n",
    "plt.imshow(stems_1)\n",
    "nStems\n",
    "# This one detected 230, sort of accurate. Thresholding Lab based on L>60"
   ]
  },
  {
   "cell_type": "code",
   "execution_count": null,
   "id": "measured-preview",
   "metadata": {},
   "outputs": [],
   "source": [
    "# rgb = plt.imread(img0)\n",
    "# plt.imshow(img0)\n",
    "# Get Lab values\n",
    "Lab = color.rgb2lab(img0)\n",
    "# mask = Lab[:,:,0] > 60\n",
    "L = Lab[:,:,0]\n",
    "\n",
    "a = Lab[:,:,1] @ Lab[:,:,1] < -3\n",
    "b = Lab[:,:,2] @ Lab[:,:,2] > 18\n",
    "\n",
    "\n",
    "\n",
    "Lab1 = np.dstack((L,a,b))  # stacks 3 h x w arrays -> h x w x 3\n",
    "# rgb_uint8 = (np.dstack((L,a,b)) * 255.999) .astype(np.uint8)\n",
    "# Lab1 = np.where(mask[..., None], Lab, 0)\n",
    "rgb = color.lab2rgb(Lab1)\n",
    "plt.imshow(rgb)\n",
    "#     img1 = CropStems(ImagePath)\n",
    "#     img = Image.open('image.png').convert('LA')\n",
    "# gray0 = rgb @ [0.2126, 0.7152, 0.0722]\n",
    "\n",
    "\n",
    "\n",
    "\n",
    "# Apply mask\n",
    "# Lab1 = np.where(mask[..., None], Lab, 0)\n",
    "# rgb = color.lab2rgb(Lab1)\n",
    "# gray0 = rgb @ [0.2126, 0.7152, 0.0722]\n",
    "# # gray0 = ndimage.median_filter(gray0, size=5)\n",
    "# edges = canny(gray0)\n",
    "# # plt.imshow(gray0, cmap='gray')\n",
    "# plt.imshow(edges)"
   ]
  },
  {
   "cell_type": "code",
   "execution_count": null,
   "id": "peaceful-lawsuit",
   "metadata": {
    "scrolled": false
   },
   "outputs": [],
   "source": [
    "Lab = color.rgb2lab(img0)\n",
    "a = Lab[:,:,1] < -0\n",
    "# a2 = a @ Lab[:,:,1]\n",
    "a2 = np.where(a[..., None], Lab, 0)\n",
    "rgb = color.lab2rgb(a2)\n",
    "plt.imshow(rgb)\n",
    "# plt.imshow(a2)\n",
    "# a = Lab[:,:,1] @ (Lab[:,:,1] < -3)"
   ]
  },
  {
   "cell_type": "code",
   "execution_count": null,
   "id": "right-market",
   "metadata": {},
   "outputs": [],
   "source": [
    "np.argwhere(image[:,:,0] > threshold)"
   ]
  },
  {
   "cell_type": "code",
   "execution_count": null,
   "id": "about-stockholm",
   "metadata": {},
   "outputs": [],
   "source": [
    "# a_mask = Lab[:,:,1] < -3\n",
    "idx = Lab[:,:,2] > 18\n",
    "Lab[idx,2] = 18\n",
    "plt.imshow(Lab)\n",
    "# a = np.dot(Lab[:,:,1], a_mask)\n",
    "# a_mask.shape\n",
    "# idx = image[:,:,0] > threshold\n",
    "# image[idx,0] = threshold"
   ]
  },
  {
   "cell_type": "code",
   "execution_count": null,
   "id": "coordinated-burton",
   "metadata": {},
   "outputs": [],
   "source": [
    "rgb = color.lab2rgb(Lab)\n",
    "plt.imshow(rgb)"
   ]
  },
  {
   "cell_type": "code",
   "execution_count": null,
   "id": "maritime-prompt",
   "metadata": {},
   "outputs": [],
   "source": [
    "edges = canny(gray0, sigma=2, low_threshold=0.4, high_threshold=0.6)\n",
    "# plt.imshow(gray0, cmap='gray')\n",
    "plt.imshow(edges)"
   ]
  },
  {
   "cell_type": "code",
   "execution_count": null,
   "id": "labeled-culture",
   "metadata": {},
   "outputs": [],
   "source": [
    "Lab[:,:,2].min()"
   ]
  },
  {
   "cell_type": "code",
   "execution_count": null,
   "id": "stable-antigua",
   "metadata": {},
   "outputs": [],
   "source": [
    "gray"
   ]
  },
  {
   "cell_type": "code",
   "execution_count": null,
   "id": "retained-incentive",
   "metadata": {},
   "outputs": [],
   "source": []
  },
  {
   "cell_type": "code",
   "execution_count": null,
   "id": "universal-douglas",
   "metadata": {},
   "outputs": [],
   "source": []
  },
  {
   "cell_type": "code",
   "execution_count": null,
   "id": "restricted-documentary",
   "metadata": {},
   "outputs": [],
   "source": []
  }
 ],
 "metadata": {
  "kernelspec": {
   "display_name": "Python 3",
   "language": "python",
   "name": "python3"
  },
  "language_info": {
   "codemirror_mode": {
    "name": "ipython",
    "version": 3
   },
   "file_extension": ".py",
   "mimetype": "text/x-python",
   "name": "python",
   "nbconvert_exporter": "python",
   "pygments_lexer": "ipython3",
   "version": "3.7.3"
  }
 },
 "nbformat": 4,
 "nbformat_minor": 5
}
